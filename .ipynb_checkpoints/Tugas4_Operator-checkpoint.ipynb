{
 "cells": [
  {
   "cell_type": "markdown",
   "id": "8231b243-3432-4590-b3ed-cb3ad75de0c7",
   "metadata": {},
   "source": [
    "<h1>1.Operator Aritmatika</h1>"
   ]
  },
  {
   "cell_type": "code",
   "execution_count": 1,
   "id": "c1cf4e40-569a-4421-afc2-7dac83dc822e",
   "metadata": {},
   "outputs": [
    {
     "name": "stdin",
     "output_type": "stream",
     "text": [
      "jumlah Apel : 12\n",
      "jumlah Teman : 4\n"
     ]
    },
    {
     "name": "stdout",
     "output_type": "stream",
     "text": [
      "Apel yang diterima setiap Teman : 12 / 4 = 3\n",
      "Total Apel yang dimiliki Budi adalah : 12 + 8 = 20\n"
     ]
    }
   ],
   "source": [
    "apelBudi = int(input(\"jumlah Apel :\"))\n",
    "teman = int(input(\"jumlah Teman :\"))\n",
    "\n",
    "hasilBagi = apelBudi // teman\n",
    "\n",
    "print(\"Apel yang diterima setiap Teman :\",apelBudi,\"/\",teman,\"=\",hasilBagi)\n",
    "\n",
    "z = 8\n",
    "hasilTambah = apelBudi + z\n",
    "print(\"Total Apel yang dimiliki Budi adalah :\",apelBudi,\"+\",z,\"=\",hasilTambah)"
   ]
  },
  {
   "cell_type": "markdown",
   "id": "49969da0-694a-4834-9d04-f2653b40dfae",
   "metadata": {},
   "source": [
    "<h1>2.Operator Perbandingan</h1>"
   ]
  },
  {
   "cell_type": "code",
   "execution_count": 5,
   "id": "0127d8be-ba73-4094-8370-eb11e34cf926",
   "metadata": {},
   "outputs": [
    {
     "name": "stdin",
     "output_type": "stream",
     "text": [
      "TB Siti :  160\n",
      "TB Andi :  165\n"
     ]
    },
    {
     "name": "stdout",
     "output_type": "stream",
     "text": [
      "Andi lebih Tingg dari Siti\n"
     ]
    },
    {
     "name": "stdin",
     "output_type": "stream",
     "text": [
      "Isikan Tb Siti : 160\n",
      "Isikan Tb Andi : 165\n"
     ]
    },
    {
     "name": "stdout",
     "output_type": "stream",
     "text": [
      "apakah andi lebih tinggi ? True\n"
     ]
    }
   ],
   "source": [
    "x = int(input(\"TB Siti : \"))\n",
    "y = int(input(\"TB Andi : \"))\n",
    "\n",
    "if x > y :\n",
    "        print(\"Siti lebih tinggi dari andi\")\n",
    "elif x < y :\n",
    "        print(\"Andi lebih Tingg dari Siti\")\n",
    "else:\n",
    "        print(\"andi dan Siti tinggi nya sama\")\n",
    "    \n",
    "x = int(input(\"Isikan Tb Siti :\"))\n",
    "y = int(input(\"Isikan Tb Andi :\"))\n",
    "z = x < y\n",
    "print(\"apakah andi lebih tinggi ?\",z)"
   ]
  },
  {
   "cell_type": "markdown",
   "id": "4acbfa3f-19dc-4d10-8dfa-bdc6296651cb",
   "metadata": {},
   "source": [
    "<h1>3.Operator Logika</h1>"
   ]
  },
  {
   "cell_type": "code",
   "execution_count": 44,
   "id": "e4a23022-4646-489f-8ad3-81d39477e6be",
   "metadata": {},
   "outputs": [
    {
     "name": "stdout",
     "output_type": "stream",
     "text": [
      "Budi bisa bermain di luar.\n"
     ]
    }
   ],
   "source": [
    "cuacaCerah = True #True jika juaca cerah, False jika tidak\n",
    "prSelesai = True #True jika PR sudah selesai, False jika belum\n",
    "bisaBermain = cuacaCerah and prSelesai\n",
    "\n",
    "if bisaBermain:\n",
    "    print(\"Budi bisa bermain di luar.\")\n",
    "else:\n",
    "    print(\"Budi tidak bisa bermain di luar.\")"
   ]
  },
  {
   "cell_type": "markdown",
   "id": "a62a6c80-ac1d-47f1-90c6-3d9b2937a727",
   "metadata": {},
   "source": [
    "<h1>4.Operator Bitwise</h1>"
   ]
  },
  {
   "cell_type": "code",
   "execution_count": 47,
   "id": "5a4e2be7-b801-4459-a9b9-f31cd86b93a4",
   "metadata": {},
   "outputs": [
    {
     "name": "stdin",
     "output_type": "stream",
     "text": [
      "Isikan angka Pertama : 6\n",
      "Isikan angka Kedua : 3\n"
     ]
    },
    {
     "name": "stdout",
     "output_type": "stream",
     "text": [
      "0b110\n",
      "0b11\n",
      "-----------------&\n",
      "0b10\n",
      "Hasil desimal AND adalah : 2\n",
      "0b110\n",
      "0b11\n",
      "---------------|\n",
      "0b111\n",
      "Hasil desimal OR adalah : 7\n",
      "0b110\n",
      "0b11\n",
      "---------------^\n",
      "0b101\n",
      "Hasil desimal XOR adalah : 5\n"
     ]
    }
   ],
   "source": [
    "bil1 = int(input(\"Isikan angka Pertama :\"))\n",
    "bil2 = int(input(\"Isikan angka Kedua :\"))\n",
    "\n",
    "#Bitwise AND (&)\n",
    "bitwiseAnd = bil1 & bil2\n",
    "print(bin(bil1))\n",
    "print(bin(bil2))\n",
    "print(\"-----------------&\")\n",
    "print(bin(bitwiseAnd))\n",
    "print(\"Hasil desimal AND adalah :\",bitwiseAnd)\n",
    "\n",
    "#Bitwise Or (|)\n",
    "bitwiseOr = bil1 | bil2\n",
    "print(bin(bil1))\n",
    "print(bin(bil2))\n",
    "print(\"---------------|\")\n",
    "print(bin(bitwiseOr))\n",
    "print(\"Hasil desimal OR adalah :\",bitwiseOr)\n",
    "\n",
    "#Bitwise XOR (^)\n",
    "bitwiseXOR = bil1 ^ bil2\n",
    "print(bin(bil1))\n",
    "print(bin(bil2))\n",
    "print(\"---------------^\")\n",
    "print(bin(bitwiseXOR))\n",
    "print(\"Hasil desimal XOR adalah :\",bitwiseXOR)"
   ]
  },
  {
   "cell_type": "markdown",
   "id": "4e62bee6-7d62-4312-bb48-aab83d2760c7",
   "metadata": {},
   "source": [
    "<h1>5.Operator Penugasan</h1>"
   ]
  },
  {
   "cell_type": "code",
   "execution_count": 50,
   "id": "bdd4b854-664f-4823-ad82-0a97e0506ce3",
   "metadata": {},
   "outputs": [
    {
     "name": "stdin",
     "output_type": "stream",
     "text": [
      "Isikan Saldo 50000\n"
     ]
    },
    {
     "name": "stdout",
     "output_type": "stream",
     "text": [
      "Saldo awal dari <Saldo> : 50000\n",
      "Saldo setelah diisi ulang : 70000\n",
      "Saldo setelah dibelikan paket : 40000\n",
      "Sisa Saldo nya adalah : 40000\n"
     ]
    }
   ],
   "source": [
    "nilai = int(input(\"Isikan Saldo\"))\n",
    "print(\"Saldo awal dari <Saldo> :\",nilai)\n",
    "nilai+= 20000\n",
    "print(\"Saldo setelah diisi ulang :\",nilai)\n",
    "nilai-= 30000\n",
    "print(\"Saldo setelah dibelikan paket :\",nilai)\n",
    "print(\"Sisa Saldo nya adalah :\",nilai)"
   ]
  },
  {
   "cell_type": "markdown",
   "id": "9af74b8d-b9ab-4e4e-9811-6c5cdb2d56d3",
   "metadata": {},
   "source": [
    "<h1>6.Operator Keanggotaan</h1>"
   ]
  },
  {
   "cell_type": "code",
   "execution_count": 53,
   "id": "c8d23b86-0ccf-4b8f-bd3f-d80a20563093",
   "metadata": {},
   "outputs": [
    {
     "name": "stdin",
     "output_type": "stream",
     "text": [
      "Isikan nama yang dicari : Eka\n"
     ]
    },
    {
     "name": "stdout",
     "output_type": "stream",
     "text": [
      "Apakah nama tsb terdaftar sebagai peserta? False\n"
     ]
    },
    {
     "name": "stdin",
     "output_type": "stream",
     "text": [
      "Isikan kata yang dicari : Python\n"
     ]
    },
    {
     "name": "stdout",
     "output_type": "stream",
     "text": [
      "Apakah kata Python ada dalam kalimat? True\n"
     ]
    }
   ],
   "source": [
    "nama = input(\"Isikan nama yang dicari :\")\n",
    "listNama = [\"Andi\",\"Budi\",\"Citra\",\"Dewi\"]\n",
    "print(\"Apakah nama tsb terdaftar sebagai peserta?\", nama in listNama)\n",
    "\n",
    "kata = input(\"Isikan kata yang dicari :\")\n",
    "kalimat = \"Saya suka belajar Python\"\n",
    "print(\"Apakah kata Python ada dalam kalimat?\",kata in kalimat)"
   ]
  },
  {
   "cell_type": "markdown",
   "id": "b0ef336c-0c98-4f71-962a-cd69871cf035",
   "metadata": {},
   "source": [
    "<h1>7.Operator Identitas</h1>"
   ]
  },
  {
   "cell_type": "code",
   "execution_count": 56,
   "id": "8ed3c0e3-72b6-48e6-9922-e9957de9d30a",
   "metadata": {},
   "outputs": [
    {
     "name": "stdout",
     "output_type": "stream",
     "text": [
      "Memori address dari x 140709148633816\n",
      "Memori address dari y 140709148633816\n",
      "Apakah x adalah y? True\n",
      "Memori address dari a 2165461882752\n",
      "Memori address dari b 2165465794176\n",
      "Apakah a adalah b? False\n"
     ]
    }
   ],
   "source": [
    "x = 10\n",
    "y = 10\n",
    "\n",
    "print('Memori address dari x',id(x))\n",
    "print('Memori address dari y',id(y))\n",
    "print('Apakah x adalah y?',x is y)\n",
    "\n",
    "a = [4,7,8]\n",
    "b = [4,7,8]\n",
    "\n",
    "print('Memori address dari a',id(a))\n",
    "print('Memori address dari b',id(b))\n",
    "print('Apakah a adalah b?',a is b)"
   ]
  },
  {
   "cell_type": "markdown",
   "id": "7fa547be-062f-4174-b9ce-e277cd5b0ab6",
   "metadata": {},
   "source": [
    "<h1>8.Operator Ternary</h1>"
   ]
  },
  {
   "cell_type": "code",
   "execution_count": 65,
   "id": "4b9a5318-e676-4c17-bfb2-32f64e33387c",
   "metadata": {},
   "outputs": [
    {
     "name": "stdin",
     "output_type": "stream",
     "text": [
      "Isikan angka : 101\n"
     ]
    },
    {
     "name": "stdout",
     "output_type": "stream",
     "text": [
      "Lebih besar dari 100\n"
     ]
    },
    {
     "name": "stdin",
     "output_type": "stream",
     "text": [
      "Isikan nilai : 80\n"
     ]
    },
    {
     "name": "stdout",
     "output_type": "stream",
     "text": [
      "LULUS.\n"
     ]
    }
   ],
   "source": [
    "number = int(input(\"Isikan angka :\"))\n",
    "AngkaLebihBesar = \"Lebih besar dari 100\" if number > 100 else \"Lebih kecil dari 100\"\n",
    "print(AngkaLebihBesar)\n",
    "\n",
    "nilai = int(input(\"Isikan nilai :\"))\n",
    "nilaiLulus = \"LULUS.\" if nilai > 70 else \"TIDAK LULUS.\"\n",
    "print(nilaiLulus)"
   ]
  },
  {
   "cell_type": "code",
   "execution_count": null,
   "id": "ed480040-cc05-4a06-9a9b-c6062553ac27",
   "metadata": {},
   "outputs": [],
   "source": []
  }
 ],
 "metadata": {
  "kernelspec": {
   "display_name": "Python [conda env:base] *",
   "language": "python",
   "name": "conda-base-py"
  },
  "language_info": {
   "codemirror_mode": {
    "name": "ipython",
    "version": 3
   },
   "file_extension": ".py",
   "mimetype": "text/x-python",
   "name": "python",
   "nbconvert_exporter": "python",
   "pygments_lexer": "ipython3",
   "version": "3.12.7"
  }
 },
 "nbformat": 4,
 "nbformat_minor": 5
}
